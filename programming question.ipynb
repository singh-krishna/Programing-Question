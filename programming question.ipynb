{
 "cells": [
  {
   "cell_type": "markdown",
   "metadata": {},
   "source": [
    "## LCS Program"
   ]
  },
  {
   "cell_type": "code",
   "execution_count": 19,
   "metadata": {
    "scrolled": true
   },
   "outputs": [
    {
     "name": "stdout",
     "output_type": "stream",
     "text": [
      "4\n"
     ]
    }
   ],
   "source": [
    "def lcs(X,Y):\n",
    "    l=[[None]*(len(Y) + 1) for i in range(len(X) + 1)]\n",
    "    for i in range(len(X)+1):\n",
    "        for j in range(len(Y)+1):\n",
    "            if(i==0 or j==0):\n",
    "                l[i][j]=0\n",
    "            elif X[i-1] == Y[j-1]: \n",
    "                l[i][j] = l[i-1][j-1]+1\n",
    "            else: \n",
    "                l[i][j] = max(l[i-1][j], l[i][j-1])\n",
    "    return l[len(X)][len(Y)]\n",
    "print(lcs(\"AGGTAB\",\"GXTXAYB\"))   "
   ]
  },
  {
   "cell_type": "markdown",
   "metadata": {},
   "source": [
    "## Finding the perfect square numbers between given numbers"
   ]
  },
  {
   "cell_type": "code",
   "execution_count": 18,
   "metadata": {
    "scrolled": true
   },
   "outputs": [
    {
     "name": "stdout",
     "output_type": "stream",
     "text": [
      "[121, 144, 169, 196]\n"
     ]
    }
   ],
   "source": [
    "import math\n",
    "def perfect_squares(min, max):\n",
    "    lowest = int(math.ceil(math.sqrt(min)))\n",
    "    highest = int(math.sqrt(max))\n",
    "    return (list(n**2 for n in range(lowest, highest + 1)))\n",
    "print(perfect_squares(101, 220))"
   ]
  },
  {
   "cell_type": "markdown",
   "metadata": {},
   "source": [
    "## Sort the element of the list in desecding order of their occurence if the elements of same frequency the put the element who comes first in the list"
   ]
  },
  {
   "cell_type": "code",
   "execution_count": 28,
   "metadata": {
    "scrolled": true
   },
   "outputs": [
    {
     "name": "stdout",
     "output_type": "stream",
     "text": [
      "5,4,9,3,7,3,4,28,56,10\n",
      "[4, 4, 3, 3, 5, 9, 7, 28, 56, 10]\n"
     ]
    }
   ],
   "source": [
    "l=[int(x) for x in input().split(',')]\n",
    "l1=[] # storing the unique value into the list as per the occurence\n",
    "l2=[] # store the frequency of the number present in the l1 in same index\n",
    "l3=[] # store the frequency in decresing order\n",
    "l4=[] # store the value in decresing order of frequency \n",
    "l5=[] # output list which sort element by frequency \n",
    "count=0\n",
    "for i in l:\n",
    "    if(i in l1):\n",
    "        continue\n",
    "    else:\n",
    "        l1.append(i)\n",
    "        l2.append(l.count(i))\n",
    "c=len(l2) # used as a counter for \n",
    "while True:\n",
    "    if(count<c):\n",
    "        l3.append((max(l2)))\n",
    "        l4.append(l1[l2.index(max(l2))])\n",
    "        l1.remove(l1[l2.index(max(l2))])\n",
    "        l2.remove(max(l2))\n",
    "        count+=1\n",
    "    else:\n",
    "        break\n",
    "x=0\n",
    "for i in l4:\n",
    "    for j in range((l3[x])):\n",
    "        l5.append(i)\n",
    "    x+=1\n",
    "print(l5)"
   ]
  },
  {
   "cell_type": "markdown",
   "metadata": {},
   "source": [
    "## Replace each element of list by its rank"
   ]
  },
  {
   "cell_type": "code",
   "execution_count": 15,
   "metadata": {
    "scrolled": true
   },
   "outputs": [
    {
     "name": "stdout",
     "output_type": "stream",
     "text": [
      "2,8,9,6,10,78,99\n",
      "[1, 3, 4, 2, 5, 6, 7]\n"
     ]
    }
   ],
   "source": [
    "l=tuple(int(x) for x in input().split(','))\n",
    "l2=list(l)\n",
    "l2.sort()\n",
    "l=list(l)\n",
    "for i in range(len(l2)):\n",
    "    l[l.index(l2[i])]=i+1\n",
    "print(l)"
   ]
  },
  {
   "cell_type": "markdown",
   "metadata": {},
   "source": [
    "## Sort an array according to the order defined by another array "
   ]
  },
  {
   "cell_type": "code",
   "execution_count": 16,
   "metadata": {
    "scrolled": true
   },
   "outputs": [
    {
     "name": "stdout",
     "output_type": "stream",
     "text": [
      "10,8,5,6,8,8,5,2,3,7\n",
      "8,10,5,3,2\n",
      "[8, 8, 8, 10, 5, 5, 3, 2, 6, 7]\n"
     ]
    }
   ],
   "source": [
    "original=[int(x) for x in input().split(',')]\n",
    "refrence=[int(x) for x in input().split(',')]\n",
    "l=[]\n",
    "l2=list(set(original))\n",
    "for i in refrence:\n",
    "    for j in range(original.count(i)):\n",
    "        l.append(i)\n",
    "    c=l2.remove(i)\n",
    "print(l+l2)"
   ]
  },
  {
   "cell_type": "markdown",
   "metadata": {},
   "source": [
    "## Count Sorting as per the given order"
   ]
  },
  {
   "cell_type": "code",
   "execution_count": 25,
   "metadata": {
    "scrolled": true
   },
   "outputs": [
    {
     "name": "stdout",
     "output_type": "stream",
     "text": [
      "10,8,5,6,8,8,5,2,3,7\n",
      "[10, 8, 5, 6, 2, 3, 7]\n",
      "[2, 3, 5, 6, 7, 8, 10]\n",
      "[2, 3, 5, 5, 6, 7, 8, 8, 8, 10]\n"
     ]
    }
   ],
   "source": [
    "l=[int(x) for x in input().split(',')]\n",
    "l1=[]\n",
    "for i in l:\n",
    "    if(i not in l1):\n",
    "        l1.append(i)\n",
    "d={}\n",
    "for i in l1:\n",
    "    d[i]=l.count(i)\n",
    "sort=sorted(d)\n",
    "print(l1)\n",
    "print(sort)\n",
    "output=[]\n",
    "for i in sort:\n",
    "    x=[i]*d[i]\n",
    "    output=output+x\n",
    "print(output)"
   ]
  },
  {
   "cell_type": "markdown",
   "metadata": {
    "collapsed": true,
    "scrolled": true
   },
   "source": [
    "## Number of distint words in the string"
   ]
  },
  {
   "cell_type": "code",
   "execution_count": 31,
   "metadata": {
    "scrolled": true
   },
   "outputs": [
    {
     "name": "stdout",
     "output_type": "stream",
     "text": [
      "kkrishnaaanana\n",
      "Number of words in the string:- 14\n",
      "Distint words in the string:- 7\n"
     ]
    }
   ],
   "source": [
    "x=input()\n",
    "print('Number of words in the string:-',len(x))\n",
    "print('Distint words in the string:-',len(set(x)))"
   ]
  },
  {
   "cell_type": "markdown",
   "metadata": {
    "collapsed": true,
    "scrolled": true
   },
   "source": [
    "## Distint element in a list"
   ]
  },
  {
   "cell_type": "code",
   "execution_count": 29,
   "metadata": {
    "scrolled": true
   },
   "outputs": [
    {
     "name": "stdout",
     "output_type": "stream",
     "text": [
      "5,4,9,3,7,3,4,28,56,10\n",
      "the unique elements in the list are: {3, 4, 5, 7, 9, 10, 56, 28}\n",
      "Number of distint element in the list 8\n"
     ]
    }
   ],
   "source": [
    "l=[int(x) for x in input().split(',')]\n",
    "x=set(l)\n",
    "print(\"the unique elements in the list are:\",x)\n",
    "print('Number of distint element in the list',len(x))"
   ]
  },
  {
   "cell_type": "markdown",
   "metadata": {
    "collapsed": true,
    "scrolled": true
   },
   "source": [
    "## Swapping of two number without any thrid variable and arithmetic operator"
   ]
  },
  {
   "cell_type": "code",
   "execution_count": 32,
   "metadata": {},
   "outputs": [
    {
     "name": "stdout",
     "output_type": "stream",
     "text": [
      "10\n",
      "20\n",
      "20 10\n"
     ]
    }
   ],
   "source": [
    "a=int(input())\n",
    "b=int(input())\n",
    "a,b=b,a\n",
    "print(a,b)"
   ]
  },
  {
   "cell_type": "markdown",
   "metadata": {},
   "source": [
    "## Reverse of a number"
   ]
  },
  {
   "cell_type": "code",
   "execution_count": 33,
   "metadata": {},
   "outputs": [
    {
     "name": "stdout",
     "output_type": "stream",
     "text": [
      "12354\n",
      "45321\n"
     ]
    }
   ],
   "source": [
    "num=input()\n",
    "print(int(num[::-1]))"
   ]
  },
  {
   "cell_type": "markdown",
   "metadata": {},
   "source": [
    "## Strong number"
   ]
  },
  {
   "cell_type": "code",
   "execution_count": 36,
   "metadata": {},
   "outputs": [
    {
     "name": "stdout",
     "output_type": "stream",
     "text": [
      "145\n",
      "YES\n"
     ]
    }
   ],
   "source": [
    "import math\n",
    "num=input()\n",
    "x=0\n",
    "for i in num:\n",
    "    x=x+math.factorial(int(i))\n",
    "if(x==int(num)):\n",
    "    print('YES')\n",
    "else:\n",
    "    print(\"NO\")"
   ]
  },
  {
   "cell_type": "markdown",
   "metadata": {},
   "source": [
    "## Perfect Number"
   ]
  },
  {
   "cell_type": "code",
   "execution_count": 37,
   "metadata": {},
   "outputs": [
    {
     "name": "stdout",
     "output_type": "stream",
     "text": [
      "6\n",
      "YES\n"
     ]
    }
   ],
   "source": [
    "num=int(input())\n",
    "x=0\n",
    "for i in range(1,num-1):\n",
    "    if(num%i==0):\n",
    "        x=x+i\n",
    "if(x==num):\n",
    "    print('YES')\n",
    "else:\n",
    "    print(\"NO\")\n"
   ]
  },
  {
   "cell_type": "markdown",
   "metadata": {},
   "source": [
    "## Pallindrome "
   ]
  },
  {
   "cell_type": "code",
   "execution_count": 43,
   "metadata": {},
   "outputs": [
    {
     "name": "stdout",
     "output_type": "stream",
     "text": [
      "mom\n",
      "YES\n"
     ]
    }
   ],
   "source": [
    "x=input()\n",
    "if(x==x[::-1]):\n",
    "    print('YES')\n",
    "else:\n",
    "    print('NO')"
   ]
  },
  {
   "cell_type": "markdown",
   "metadata": {},
   "source": [
    "## Encryption on the given cipher key (Assume string is A and cyper key is 3 then the output will be D)"
   ]
  },
  {
   "cell_type": "code",
   "execution_count": 46,
   "metadata": {},
   "outputs": [
    {
     "name": "stdout",
     "output_type": "stream",
     "text": [
      "aBcD\n",
      "1\n",
      "bCdE\n"
     ]
    }
   ],
   "source": [
    "text=input()\n",
    "cipher_key=int(input())\n",
    "decrypt_text=''\n",
    "for i in text:\n",
    "    decrypt_text=decrypt_text+chr(ord(i)+cipher_key)\n",
    "print(decrypt_text)"
   ]
  },
  {
   "cell_type": "markdown",
   "metadata": {},
   "source": [
    "## Rverse only vowles from the string"
   ]
  },
  {
   "cell_type": "code",
   "execution_count": 74,
   "metadata": {},
   "outputs": [
    {
     "name": "stdout",
     "output_type": "stream",
     "text": [
      "leetcode\n",
      "leotcede\n"
     ]
    }
   ],
   "source": [
    "text=input()\n",
    "vowles='aeiou'\n",
    "l=[]\n",
    "new=''\n",
    "for i in text:\n",
    "    if(i in vowles or i in vowles.upper()):\n",
    "        l.append(i)\n",
    "for i in text:\n",
    "    if(i not in vowles and i not in vowles.upper()):\n",
    "        new=new+i\n",
    "    else:\n",
    "        a=l[-1]\n",
    "        l=l[:len(l)-1]\n",
    "        new=new+a\n",
    "print(new)"
   ]
  }
 ],
 "metadata": {
  "kernelspec": {
   "display_name": "Python 3",
   "language": "python",
   "name": "python3"
  },
  "language_info": {
   "codemirror_mode": {
    "name": "ipython",
    "version": 3
   },
   "file_extension": ".py",
   "mimetype": "text/x-python",
   "name": "python",
   "nbconvert_exporter": "python",
   "pygments_lexer": "ipython3",
   "version": "3.7.0"
  }
 },
 "nbformat": 4,
 "nbformat_minor": 2
}
