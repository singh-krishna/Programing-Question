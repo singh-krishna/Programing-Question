{
 "cells": [
  {
   "cell_type": "markdown",
   "metadata": {},
   "source": [
    "## Check whether the given set of parenthesis is balanced or not"
   ]
  },
  {
   "cell_type": "code",
   "execution_count": 1,
   "metadata": {},
   "outputs": [
    {
     "name": "stdout",
     "output_type": "stream",
     "text": [
      "(({{(())[[{}]]))\n",
      "Not Balanced\n"
     ]
    }
   ],
   "source": [
    "def is_valid(expr):\n",
    "    l=[]\n",
    "    for ch in expr:\n",
    "        if(ch in '({['):\n",
    "            l.append(ch)\n",
    "        if(ch in ')}]'):\n",
    "            if len(l)==0:\n",
    "                return False\n",
    "            else:\n",
    "                x=l.pop()\n",
    "                if not matched(x,ch):\n",
    "                    return False\n",
    "    if (len(l)==0):\n",
    "        return True\n",
    "    else:\n",
    "        return False\n",
    "def matched(opening,closing):\n",
    "    if opening=='(' and closing==')':\n",
    "        return True\n",
    "    elif opening=='{' and closing=='}':\n",
    "        return True\n",
    "    elif opening=='[' and closing==']':\n",
    "        return True\n",
    "    else:\n",
    "        return False\n",
    "expr=input()\n",
    "if is_valid(expr):\n",
    "    print('Balanced')\n",
    "else:\n",
    "    print('Not Balanced')"
   ]
  },
  {
   "cell_type": "code",
   "execution_count": null,
   "metadata": {},
   "outputs": [],
   "source": []
  }
 ],
 "metadata": {
  "kernelspec": {
   "display_name": "Python 3",
   "language": "python",
   "name": "python3"
  },
  "language_info": {
   "codemirror_mode": {
    "name": "ipython",
    "version": 3
   },
   "file_extension": ".py",
   "mimetype": "text/x-python",
   "name": "python",
   "nbconvert_exporter": "python",
   "pygments_lexer": "ipython3",
   "version": "3.7.0"
  }
 },
 "nbformat": 4,
 "nbformat_minor": 2
}
